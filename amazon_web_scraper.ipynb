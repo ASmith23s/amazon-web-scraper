{
 "cells": [
  {
   "cell_type": "markdown",
   "id": "1f8675bb",
   "metadata": {},
   "source": [
    "# Beginner Web Scraping: Amazon Marketplace\n",
    "In today's project, I will begin a beginner friendly web scraping of Amazon's website to scrape data for a particular item. Following the scraping of the data, I will define a function that allows me to check the price of the item daily. If the value of this item changes, I will be sent an email notifying me to purchase the item. Let's begin!"
   ]
  },
  {
   "cell_type": "code",
   "execution_count": 12,
   "id": "d9b64640",
   "metadata": {},
   "outputs": [],
   "source": [
    "# Importing Libraries\n",
    "\n",
    "from bs4 import BeautifulSoup\n",
    "import requests\n",
    "import time\n",
    "import datetime\n",
    "\n",
    "import smtplib"
   ]
  },
  {
   "cell_type": "code",
   "execution_count": 13,
   "id": "a76ed09e",
   "metadata": {},
   "outputs": [
    {
     "name": "stdout",
     "output_type": "stream",
     "text": [
      "\n",
      "                   funny data analyst definition data scientist T-Shirt\n",
      "                  \n",
      "\n",
      "                    $19.99\n",
      "                   \n"
     ]
    }
   ],
   "source": [
    "# Connect to website\n",
    "\n",
    "url ='https://www.amazon.com/funny-analyst-definition-scientist-t-shirt/dp/B07NLP2PKY/ref=sr_1_6?dchild=1&keywords=data+shirt&qid=1632083586&sr=8-6'\n",
    "\n",
    "headers = {\"User-Agent\": \"Mozilla/5.0 (Windows NT 10.0; Win64; x64) AppleWebKit/537.36 (KHTML, like Gecko) Chrome/93.0.4577.82 Safari/537.36 Edg/93.0.961.52\", \n",
    "    \"X-Amzn-Trace-Id\": \"Root=1-61479f50-13ea3ada33b0b10e3f787977\"}\n",
    "\n",
    "page = requests.get(url, headers=headers)\n",
    "\n",
    "soup1 = BeautifulSoup(page.content, \"html.parser\")\n",
    "\n",
    "soup2 = BeautifulSoup(soup1.prettify(), \"html.parser\")\n",
    "\n",
    "title = soup2.find(id='productTitle').get_text()\n",
    "\n",
    "price = soup2.find(id='priceblock_ourprice').get_text()\n",
    "\n",
    "print(title)\n",
    "print(price)"
   ]
  },
  {
   "cell_type": "code",
   "execution_count": 14,
   "id": "95d349b9",
   "metadata": {},
   "outputs": [
    {
     "name": "stdout",
     "output_type": "stream",
     "text": [
      "19.99\n",
      "funny data analyst definition data scientist T-Shirt\n"
     ]
    }
   ],
   "source": [
    "# Cleaning up the data\n",
    "\n",
    "price = price.strip()[1:]\n",
    "title = title.strip()\n",
    "\n",
    "print(price)\n",
    "print(title)"
   ]
  },
  {
   "cell_type": "code",
   "execution_count": 18,
   "id": "c7c141bf",
   "metadata": {},
   "outputs": [],
   "source": [
    "# Creating a variable for today's date for dataset\n",
    "\n",
    "import datetime\n",
    "\n",
    "today_date = datetime.date.today()\n"
   ]
  },
  {
   "cell_type": "code",
   "execution_count": 19,
   "id": "35252606",
   "metadata": {},
   "outputs": [],
   "source": [
    "# Creating initial dataset\n",
    "\n",
    "import csv \n",
    "header = ['Product', 'Price', 'Date']\n",
    "data = [title, price, today_date]\n",
    "\n",
    "\n",
    "with open('Amazonscrapeweb.csv', 'w', newline='', encoding='UTF8') as f:\n",
    "    writer = csv.writer(f)\n",
    "    writer.writerow(header)\n",
    "    writer.writerow(data)"
   ]
  },
  {
   "cell_type": "code",
   "execution_count": 20,
   "id": "6915a9e4",
   "metadata": {},
   "outputs": [
    {
     "name": "stdout",
     "output_type": "stream",
     "text": [
      "                                             Product  Price        Date\n",
      "0  funny data analyst definition data scientist T...  19.99  2021-09-19\n"
     ]
    }
   ],
   "source": [
    "# Confirming data has been inserted into dataset\n",
    "\n",
    "import pandas as pd\n",
    "\n",
    "df = pd.read_csv(r'C:\\Users\\a.f.smith\\PythonWork\\project_work\\Amazonscrapeweb.csv')\n",
    "\n",
    "print(df)"
   ]
  },
  {
   "cell_type": "code",
   "execution_count": null,
   "id": "33069f12",
   "metadata": {},
   "outputs": [],
   "source": [
    "# Appending new data to the Amazon dataset\n",
    "\n",
    "with open('Amazonscrapeweb.csv', 'a+', newline='', encoding='UTF8') as f:\n",
    "    writer = csv.writer(f)\n",
    "    \n",
    "    writer.writerow(data)"
   ]
  },
  {
   "cell_type": "code",
   "execution_count": 22,
   "id": "0d251ba8",
   "metadata": {},
   "outputs": [],
   "source": [
    "#Defining a function that appends a new row to check price of product\n",
    "\n",
    "def check_price():\n",
    "    url ='https://www.amazon.com/funny-analyst-definition-scientist-t-shirt/dp/B07NLP2PKY/ref=sr_1_6?dchild=1&keywords=data+shirt&qid=1632083586&sr=8-6'\n",
    "\n",
    "    headers = {\"User-Agent\": \"Mozilla/5.0 (Windows NT 10.0; Win64; x64) AppleWebKit/537.36 (KHTML, like Gecko) Chrome/93.0.4577.82 Safari/537.36 Edg/93.0.961.52\", \n",
    "        \"X-Amzn-Trace-Id\": \"Root=1-61479f50-13ea3ada33b0b10e3f787977\"}\n",
    "\n",
    "    page = requests.get(url, headers=headers)\n",
    "\n",
    "    soup1 = BeautifulSoup(page.content, \"html.parser\")\n",
    "\n",
    "    soup2 = BeautifulSoup(soup1.prettify(), \"html.parser\")\n",
    "\n",
    "    title = soup2.find(id='productTitle').get_text()\n",
    "\n",
    "    price = soup2.find(id='priceblock_ourprice').get_text()\n",
    "\n",
    "    price = price.strip()[1:]\n",
    "    title = title.strip()\n",
    "    \n",
    "    import datetime\n",
    "\n",
    "    today_date = datetime.date.today()\n",
    "    \n",
    "    import csv \n",
    "    header = ['Product', 'Price', 'Date']\n",
    "    data = [title, price, today_date]\n",
    "    \n",
    "    with open('Amazonscrapeweb.csv', 'a+', newline='', encoding='UTF8') as f:\n",
    "        writer = csv.writer(f)\n",
    "        writer.writerow(data)\n",
    "        \n",
    "    if(price < 14):\n",
    "        send_mail()"
   ]
  },
  {
   "cell_type": "code",
   "execution_count": 24,
   "id": "3c4f76d3",
   "metadata": {},
   "outputs": [],
   "source": [
    "# Defining a function to send an email based on previous function requirements\n",
    "\n",
    "def send_mail():\n",
    "    server = smtplib.SMTP_SSL('smtp.gmail.com',465)\n",
    "    server.ehlo()\n",
    "    #server.starttls()\n",
    "    server.ehlo()\n",
    "    server.login('Drewismyname20@gmail.com', 'xxxxxxxxxxxxx')\n",
    "    \n",
    "    subject = \"The shirt on your wish list is below 15 dollars! Buy now!\"\n",
    "    body = \"Drew, the time has come for to take advantage of a discount on your wishlist. Buy now!\"\n",
    "    \n",
    "    msg = f\"Subject: {subject}\\nn{body}\"\n",
    "    \n",
    "    server.sendmail(\n",
    "        'Drewismyname20@gmail.com',\n",
    "        msg\n",
    "    )"
   ]
  },
  {
   "cell_type": "code",
   "execution_count": null,
   "id": "9cf95033",
   "metadata": {},
   "outputs": [],
   "source": [
    "# Automating the task to check url once a day\n",
    "\n",
    "while(True):\n",
    "    check_price()\n",
    "    time.sleep(86400)"
   ]
  },
  {
   "cell_type": "code",
   "execution_count": null,
   "id": "e9148d35",
   "metadata": {},
   "outputs": [],
   "source": []
  }
 ],
 "metadata": {
  "kernelspec": {
   "display_name": "Python 3",
   "language": "python",
   "name": "python3"
  },
  "language_info": {
   "codemirror_mode": {
    "name": "ipython",
    "version": 3
   },
   "file_extension": ".py",
   "mimetype": "text/x-python",
   "name": "python",
   "nbconvert_exporter": "python",
   "pygments_lexer": "ipython3",
   "version": "3.8.8"
  }
 },
 "nbformat": 4,
 "nbformat_minor": 5
}
